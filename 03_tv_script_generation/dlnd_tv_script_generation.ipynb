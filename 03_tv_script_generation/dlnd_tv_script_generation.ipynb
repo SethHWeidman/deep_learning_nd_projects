{
 "cells": [
  {
   "cell_type": "markdown",
   "metadata": {
    "deletable": true,
    "editable": true
   },
   "source": [
    "# TV Script Generation\n",
    "In this project, you'll generate your own [Simpsons](https://en.wikipedia.org/wiki/The_Simpsons) TV scripts using RNNs.  You'll be using part of the [Simpsons dataset](https://www.kaggle.com/wcukierski/the-simpsons-by-the-data) of scripts from 27 seasons.  The Neural Network you'll build will generate a new TV script for a scene at [Moe's Tavern](https://simpsonswiki.com/wiki/Moe's_Tavern).\n",
    "## Get the Data\n",
    "The data is already provided for you.  You'll be using a subset of the original dataset.  It consists of only the scenes in Moe's Tavern.  This doesn't include other versions of the tavern, like \"Moe's Cavern\", \"Flaming Moe's\", \"Uncle Moe's Family Feed-Bag\", etc.."
   ]
  },
  {
   "cell_type": "code",
   "execution_count": 26,
   "metadata": {
    "collapsed": false,
    "deletable": true,
    "editable": true
   },
   "outputs": [],
   "source": [
    "\"\"\"\n",
    "DON'T MODIFY ANYTHING IN THIS CELL\n",
    "\"\"\"\n",
    "import helper\n",
    "\n",
    "data_dir = './data/simpsons/moes_tavern_lines.txt'\n",
    "text = helper.load_data(data_dir)\n",
    "# Ignore notice, since we don't use it for analysing the data\n",
    "text = text[81:]"
   ]
  },
  {
   "cell_type": "markdown",
   "metadata": {
    "deletable": true,
    "editable": true
   },
   "source": [
    "## Explore the Data\n",
    "Play around with `view_sentence_range` to view different parts of the data."
   ]
  },
  {
   "cell_type": "code",
   "execution_count": 27,
   "metadata": {
    "collapsed": false,
    "deletable": true,
    "editable": true
   },
   "outputs": [
    {
     "name": "stdout",
     "output_type": "stream",
     "text": [
      "Dataset Stats\n",
      "Roughly the number of unique words: 11492\n",
      "Number of scenes: 262\n",
      "Average number of sentences in each scene: 15.248091603053435\n",
      "Number of lines: 4257\n",
      "Average number of words in each line: 11.50434578341555\n",
      "\n",
      "The sentences 0 to 10:\n",
      "Moe_Szyslak: (INTO PHONE) Moe's Tavern. Where the elite meet to drink.\n",
      "Bart_Simpson: Eh, yeah, hello, is Mike there? Last name, Rotch.\n",
      "Moe_Szyslak: (INTO PHONE) Hold on, I'll check. (TO BARFLIES) Mike Rotch. Mike Rotch. Hey, has anybody seen Mike Rotch, lately?\n",
      "Moe_Szyslak: (INTO PHONE) Listen you little puke. One of these days I'm gonna catch you, and I'm gonna carve my name on your back with an ice pick.\n",
      "Moe_Szyslak: What's the matter Homer? You're not your normal effervescent self.\n",
      "Homer_Simpson: I got my problems, Moe. Give me another one.\n",
      "Moe_Szyslak: Homer, hey, you should not drink to forget your problems.\n",
      "Barney_Gumble: Yeah, you should only drink to enhance your social skills.\n",
      "\n",
      "\n"
     ]
    }
   ],
   "source": [
    "view_sentence_range = (0, 10)\n",
    "\n",
    "\"\"\"\n",
    "DON'T MODIFY ANYTHING IN THIS CELL\n",
    "\"\"\"\n",
    "import numpy as np\n",
    "\n",
    "print('Dataset Stats')\n",
    "print('Roughly the number of unique words: {}'.format(len({word: None for word in text.split()})))\n",
    "scenes = text.split('\\n\\n')\n",
    "print('Number of scenes: {}'.format(len(scenes)))\n",
    "sentence_count_scene = [scene.count('\\n') for scene in scenes]\n",
    "print('Average number of sentences in each scene: {}'.format(np.average(sentence_count_scene)))\n",
    "\n",
    "sentences = [sentence for scene in scenes for sentence in scene.split('\\n')]\n",
    "print('Number of lines: {}'.format(len(sentences)))\n",
    "word_count_sentence = [len(sentence.split()) for sentence in sentences]\n",
    "print('Average number of words in each line: {}'.format(np.average(word_count_sentence)))\n",
    "\n",
    "print()\n",
    "print('The sentences {} to {}:'.format(*view_sentence_range))\n",
    "print('\\n'.join(text.split('\\n')[view_sentence_range[0]:view_sentence_range[1]]))"
   ]
  },
  {
   "cell_type": "markdown",
   "metadata": {
    "deletable": true,
    "editable": true
   },
   "source": [
    "## Implement Preprocessing Functions\n",
    "The first thing to do to any dataset is preprocessing.  Implement the following preprocessing functions below:\n",
    "- Lookup Table\n",
    "- Tokenize Punctuation\n",
    "\n",
    "### Lookup Table\n",
    "To create a word embedding, you first need to transform the words to ids.  In this function, create two dictionaries:\n",
    "- Dictionary to go from the words to an id, we'll call `vocab_to_int`\n",
    "- Dictionary to go from the id to word, we'll call `int_to_vocab`\n",
    "\n",
    "Return these dictionaries in the following tuple `(vocab_to_int, int_to_vocab)`"
   ]
  },
  {
   "cell_type": "code",
   "execution_count": 28,
   "metadata": {
    "collapsed": false,
    "deletable": true,
    "editable": true
   },
   "outputs": [
    {
     "name": "stdout",
     "output_type": "stream",
     "text": [
      "Tests Passed\n"
     ]
    }
   ],
   "source": [
    "import numpy as np\n",
    "import problem_unittests as tests\n",
    "\n",
    "def create_lookup_tables(text):\n",
    "    \"\"\"\n",
    "    Create lookup tables for vocabulary\n",
    "    :param text: The text of tv scripts split into words\n",
    "    :return: A tuple of dicts (vocab_to_int, int_to_vocab)\n",
    "    \"\"\"\n",
    "    # From the Anna KaRNNa notebook\n",
    "    vocab = set(text)\n",
    "    vocab_to_int = {c: i for i, c in enumerate(vocab)}\n",
    "    int_to_vocab = dict(enumerate(vocab))\n",
    "    # TODO: Implement Function\n",
    "    return (vocab_to_int, int_to_vocab)\n",
    "\n",
    "\n",
    "\"\"\"\n",
    "DON'T MODIFY ANYTHING IN THIS CELL THAT IS BELOW THIS LINE\n",
    "\"\"\"\n",
    "tests.test_create_lookup_tables(create_lookup_tables)"
   ]
  },
  {
   "cell_type": "markdown",
   "metadata": {
    "deletable": true,
    "editable": true
   },
   "source": [
    "### Tokenize Punctuation\n",
    "We'll be splitting the script into a word array using spaces as delimiters.  However, punctuations like periods and exclamation marks make it hard for the neural network to distinguish between the word \"bye\" and \"bye!\".\n",
    "\n",
    "Implement the function `token_lookup` to return a dict that will be used to tokenize symbols like \"!\" into \"||Exclamation_Mark||\".  Create a dictionary for the following symbols where the symbol is the key and value is the token:\n",
    "- Period ( . )\n",
    "- Comma ( , )\n",
    "- Quotation Mark ( \" )\n",
    "- Semicolon ( ; )\n",
    "- Exclamation mark ( ! )\n",
    "- Question mark ( ? )\n",
    "- Left Parentheses ( ( )\n",
    "- Right Parentheses ( ) )\n",
    "- Dash ( -- )\n",
    "- Return ( \\n )\n",
    "\n",
    "This dictionary will be used to token the symbols and add the delimiter (space) around it.  This separates the symbols as it's own word, making it easier for the neural network to predict on the next word. Make sure you don't use a token that could be confused as a word. Instead of using the token \"dash\", try using something like \"||dash||\"."
   ]
  },
  {
   "cell_type": "code",
   "execution_count": 29,
   "metadata": {
    "collapsed": false,
    "deletable": true,
    "editable": true
   },
   "outputs": [
    {
     "name": "stdout",
     "output_type": "stream",
     "text": [
      "Tests Passed\n"
     ]
    }
   ],
   "source": [
    "def token_lookup():\n",
    "    \"\"\"\n",
    "    Generate a dict to turn punctuation into a token.\n",
    "    :return: Tokenize dictionary where the key is the punctuation and the value is the token\n",
    "    \"\"\"\n",
    "    # TODO: Implement Function\n",
    "    out_dict = {\n",
    "        \".\": \"||Period||\",\n",
    "        \",\": \"||Comma||\",\n",
    "        '\"': \"||Quotation_Mark||\",\n",
    "        \";\": \"||Semicolon||\",\n",
    "        \"!\": \"||Exclamation_Mark||\",\n",
    "        \"?\": \"||Question_Mark||\",\n",
    "        '(': \"||Left_Parentheses||\",\n",
    "        \")\": \"||Right_Parentheses||\",\n",
    "        \"--\": \"||Dash||\",\n",
    "        \"\\n\": \"||Return||\"\n",
    "    }\n",
    "    \n",
    "    return out_dict\n",
    "\n",
    "\"\"\"\n",
    "DON'T MODIFY ANYTHING IN THIS CELL THAT IS BELOW THIS LINE\n",
    "\"\"\"\n",
    "tests.test_tokenize(token_lookup)"
   ]
  },
  {
   "cell_type": "markdown",
   "metadata": {
    "deletable": true,
    "editable": true
   },
   "source": [
    "## Preprocess all the data and save it\n",
    "Running the code cell below will preprocess all the data and save it to file."
   ]
  },
  {
   "cell_type": "code",
   "execution_count": 30,
   "metadata": {
    "collapsed": false,
    "deletable": true,
    "editable": true
   },
   "outputs": [],
   "source": [
    "\"\"\"\n",
    "DON'T MODIFY ANYTHING IN THIS CELL\n",
    "\"\"\"\n",
    "# Preprocess Training, Validation, and Testing Data\n",
    "helper.preprocess_and_save_data(data_dir, token_lookup, create_lookup_tables)"
   ]
  },
  {
   "cell_type": "markdown",
   "metadata": {
    "deletable": true,
    "editable": true
   },
   "source": [
    "# Check Point\n",
    "This is your first checkpoint. If you ever decide to come back to this notebook or have to restart the notebook, you can start from here. The preprocessed data has been saved to disk."
   ]
  },
  {
   "cell_type": "code",
   "execution_count": 31,
   "metadata": {
    "collapsed": false,
    "deletable": true,
    "editable": true
   },
   "outputs": [],
   "source": [
    "\"\"\"\n",
    "DON'T MODIFY ANYTHING IN THIS CELL\n",
    "\"\"\"\n",
    "import helper\n",
    "import numpy as np\n",
    "import problem_unittests as tests\n",
    "\n",
    "int_text, vocab_to_int, int_to_vocab, token_dict = helper.load_preprocess()"
   ]
  },
  {
   "cell_type": "markdown",
   "metadata": {
    "deletable": true,
    "editable": true
   },
   "source": [
    "## Build the Neural Network\n",
    "You'll build the components necessary to build a RNN by implementing the following functions below:\n",
    "- get_inputs\n",
    "- get_init_cell\n",
    "- get_embed\n",
    "- build_rnn\n",
    "- build_nn\n",
    "- get_batches\n",
    "\n",
    "### Check the Version of TensorFlow and Access to GPU"
   ]
  },
  {
   "cell_type": "code",
   "execution_count": 32,
   "metadata": {
    "collapsed": false,
    "deletable": true,
    "editable": true
   },
   "outputs": [
    {
     "name": "stdout",
     "output_type": "stream",
     "text": [
      "TensorFlow Version: 1.0.0\n",
      "Default GPU Device: /gpu:0\n"
     ]
    }
   ],
   "source": [
    "\"\"\"\n",
    "DON'T MODIFY ANYTHING IN THIS CELL\n",
    "\"\"\"\n",
    "from distutils.version import LooseVersion\n",
    "import warnings\n",
    "import tensorflow as tf\n",
    "\n",
    "# Check TensorFlow Version\n",
    "assert LooseVersion(tf.__version__) >= LooseVersion('1.0'), 'Please use TensorFlow version 1.0 or newer'\n",
    "print('TensorFlow Version: {}'.format(tf.__version__))\n",
    "\n",
    "# Check for a GPU\n",
    "if not tf.test.gpu_device_name():\n",
    "    warnings.warn('No GPU found. Please use a GPU to train your neural network.')\n",
    "else:\n",
    "    print('Default GPU Device: {}'.format(tf.test.gpu_device_name()))"
   ]
  },
  {
   "cell_type": "markdown",
   "metadata": {
    "deletable": true,
    "editable": true
   },
   "source": [
    "### Input\n",
    "Implement the `get_inputs()` function to create TF Placeholders for the Neural Network.  It should create the following placeholders:\n",
    "- Input text placeholder named \"input\" using the [TF Placeholder](https://www.tensorflow.org/api_docs/python/tf/placeholder) `name` parameter.\n",
    "- Targets placeholder\n",
    "- Learning Rate placeholder\n",
    "\n",
    "Return the placeholders in the following the tuple `(Input, Targets, LearingRate)`"
   ]
  },
  {
   "cell_type": "code",
   "execution_count": 33,
   "metadata": {
    "collapsed": false,
    "deletable": true,
    "editable": true
   },
   "outputs": [
    {
     "name": "stdout",
     "output_type": "stream",
     "text": [
      "Tests Passed\n"
     ]
    }
   ],
   "source": [
    "def get_inputs():\n",
    "    \"\"\"\n",
    "    Create TF Placeholders for input, targets, and learning rate.\n",
    "    :return: Tuple (input, targets, learning rate)\n",
    "    \"\"\"\n",
    "    inputs = tf.placeholder(tf.int32, [None, None], name='input')\n",
    "    targets = tf.placeholder(tf.int32, [None, None], name='targets')\n",
    "    learning_rate = tf.placeholder(tf.float32, name='learning_rate')\n",
    "    # TODO: Implement Function\n",
    "    return inputs, targets, learning_rate\n",
    "\n",
    "\n",
    "\"\"\"\n",
    "DON'T MODIFY ANYTHING IN THIS CELL THAT IS BELOW THIS LINE\n",
    "\"\"\"\n",
    "tests.test_get_inputs(get_inputs)"
   ]
  },
  {
   "cell_type": "markdown",
   "metadata": {
    "deletable": true,
    "editable": true
   },
   "source": [
    "### Build RNN Cell and Initialize\n",
    "Stack one or more [`BasicLSTMCells`](https://www.tensorflow.org/api_docs/python/tf/contrib/rnn/BasicLSTMCell) in a [`MultiRNNCell`](https://www.tensorflow.org/api_docs/python/tf/contrib/rnn/MultiRNNCell).\n",
    "- The Rnn size should be set using `rnn_size`\n",
    "- Initalize Cell State using the MultiRNNCell's [`zero_state()`](https://www.tensorflow.org/api_docs/python/tf/contrib/rnn/MultiRNNCell#zero_state) function\n",
    "    - Apply the name \"initial_state\" to the initial state using [`tf.identity()`](https://www.tensorflow.org/api_docs/python/tf/identity)\n",
    "\n",
    "Return the cell and initial state in the following tuple `(Cell, InitialState)`"
   ]
  },
  {
   "cell_type": "code",
   "execution_count": 34,
   "metadata": {
    "collapsed": false,
    "deletable": true,
    "editable": true
   },
   "outputs": [
    {
     "name": "stdout",
     "output_type": "stream",
     "text": [
      "Tests Passed\n"
     ]
    }
   ],
   "source": [
    "def get_init_cell(batch_size, rnn_size):\n",
    "    \"\"\"\n",
    "    Create an RNN Cell and initialize it.\n",
    "    :param batch_size: Size of batches\n",
    "    :param rnn_size: Size of RNNs\n",
    "    :return: Tuple (cell, initialize state)\n",
    "    \"\"\"\n",
    "    # TODO: Implement Function\n",
    "    lstm = tf.contrib.rnn.BasicLSTMCell(rnn_size)\n",
    "    cell = tf.contrib.rnn.MultiRNNCell([lstm] * 4)\n",
    "    initial_state = tf.identity(cell.zero_state(batch_size, tf.float32), name=\"initial_state\")\n",
    "    return cell, initial_state\n",
    "\n",
    "\n",
    "\"\"\"\n",
    "DON'T MODIFY ANYTHING IN THIS CELL THAT IS BELOW THIS LINE\n",
    "\"\"\"\n",
    "tests.test_get_init_cell(get_init_cell)"
   ]
  },
  {
   "cell_type": "markdown",
   "metadata": {
    "deletable": true,
    "editable": true
   },
   "source": [
    "### Word Embedding\n",
    "Apply embedding to `input_data` using TensorFlow.  Return the embedded sequence."
   ]
  },
  {
   "cell_type": "code",
   "execution_count": 35,
   "metadata": {
    "collapsed": false,
    "deletable": true,
    "editable": true
   },
   "outputs": [
    {
     "name": "stdout",
     "output_type": "stream",
     "text": [
      "Tests Passed\n"
     ]
    }
   ],
   "source": [
    "def get_embed(input_data, vocab_size, embed_dim):\n",
    "    \"\"\"\n",
    "    Create embedding for <input_data>.\n",
    "    :param input_data: TF placeholder for text input.\n",
    "    :param vocab_size: Number of words in vocabulary.\n",
    "    :param embed_dim: Number of embedding dimensions\n",
    "    :return: Embedded input.\n",
    "    \"\"\"\n",
    "    # TODO: Implement Function\n",
    "    embedding = tf.Variable(tf.random_uniform((vocab_size, embed_dim), -1, 1))\n",
    "    embed = tf.nn.embedding_lookup(embedding, input_data)    \n",
    "    return embed\n",
    "\n",
    "\n",
    "\"\"\"\n",
    "DON'T MODIFY ANYTHING IN THIS CELL THAT IS BELOW THIS LINE\n",
    "\"\"\"\n",
    "tests.test_get_embed(get_embed)"
   ]
  },
  {
   "cell_type": "markdown",
   "metadata": {
    "deletable": true,
    "editable": true
   },
   "source": [
    "### Build RNN\n",
    "You created a RNN Cell in the `get_init_cell()` function.  Time to use the cell to create a RNN.\n",
    "- Build the RNN using the [`tf.nn.dynamic_rnn()`](https://www.tensorflow.org/api_docs/python/tf/nn/dynamic_rnn)\n",
    " - Apply the name \"final_state\" to the final state using [`tf.identity()`](https://www.tensorflow.org/api_docs/python/tf/identity)\n",
    "\n",
    "Return the outputs and final_state state in the following tuple `(Outputs, FinalState)` "
   ]
  },
  {
   "cell_type": "code",
   "execution_count": 36,
   "metadata": {
    "collapsed": false,
    "deletable": true,
    "editable": true
   },
   "outputs": [
    {
     "name": "stdout",
     "output_type": "stream",
     "text": [
      "Tests Passed\n"
     ]
    }
   ],
   "source": [
    "def build_rnn(cell, inputs):\n",
    "    \"\"\"\n",
    "    Create a RNN using a RNN Cell\n",
    "    :param cell: RNN Cell\n",
    "    :param inputs: Input text data\n",
    "    :return: Tuple (Outputs, Final State)\n",
    "    \"\"\"\n",
    "    # TODO: Implement Function\n",
    "    outputs, state = tf.nn.dynamic_rnn(cell, inputs, dtype=tf.float32)\n",
    "    final_state = tf.identity(state, name=\"final_state\")\n",
    "    return outputs, final_state\n",
    "\n",
    "\n",
    "\"\"\"\n",
    "DON'T MODIFY ANYTHING IN THIS CELL THAT IS BELOW THIS LINE\n",
    "\"\"\"\n",
    "tests.test_build_rnn(build_rnn)"
   ]
  },
  {
   "cell_type": "markdown",
   "metadata": {
    "deletable": true,
    "editable": true
   },
   "source": [
    "### Build the Neural Network\n",
    "Apply the functions you implemented above to:\n",
    "- Apply embedding to `input_data` using your `get_embed(input_data, vocab_size, embed_dim)` function.\n",
    "- Build RNN using `cell` and your `build_rnn(cell, inputs)` function.\n",
    "- Apply a fully connected layer with a linear activation and `vocab_size` as the number of outputs.\n",
    "\n",
    "Return the logits and final state in the following tuple (Logits, FinalState) "
   ]
  },
  {
   "cell_type": "code",
   "execution_count": 37,
   "metadata": {
    "collapsed": false,
    "deletable": true,
    "editable": true
   },
   "outputs": [
    {
     "name": "stdout",
     "output_type": "stream",
     "text": [
      "Tests Passed\n"
     ]
    }
   ],
   "source": [
    "def build_nn(cell, rnn_size, input_data, vocab_size):\n",
    "    \"\"\"\n",
    "    Build part of the neural network\n",
    "    :param cell: RNN cell\n",
    "    :param rnn_size: Size of rnns\n",
    "    :param input_data: Input data\n",
    "    :param vocab_size: Vocabulary size\n",
    "    :return: Tuple (Logits, FinalState)\n",
    "    \"\"\"\n",
    "    # TODO: Implement Function\n",
    "    embed = get_embed(input_data, vocab_size, rnn_size)\n",
    "    outputs, final_state = build_rnn(cell, embed)\n",
    "\n",
    "    logits = tf.contrib.layers.fully_connected(inputs=outputs, \n",
    "                                               num_outputs=vocab_size,\n",
    "                                               activation_fn=None)\n",
    "    return logits, final_state\n",
    "\n",
    "\n",
    "\"\"\"\n",
    "DON'T MODIFY ANYTHING IN THIS CELL THAT IS BELOW THIS LINE\n",
    "\"\"\"\n",
    "tests.test_build_nn(build_nn)"
   ]
  },
  {
   "cell_type": "markdown",
   "metadata": {
    "deletable": true,
    "editable": true
   },
   "source": [
    "### Batches\n",
    "Implement `get_batches` to create batches of input and targets using `int_text`.  The batches should be a Numpy array with the shape `(number of batches, 2, batch size, sequence length)`. Each batch contains two elements:\n",
    "- The first element is a single batch of **input** with the shape `[batch size, sequence length]`\n",
    "- The second element is a single batch of **targets** with the shape `[batch size, sequence length]`\n",
    "\n",
    "If you can't fill the last batch with enough data, drop the last batch.\n",
    "\n",
    "For exmple, `get_batches([1, 2, 3, 4, 5, 6, 7, 8, 9, 10, 11, 12, 13, 14, 15], 2, 3)` would return a Numpy array of the following:\n",
    "```\n",
    "[\n",
    "  # First Batch\n",
    "  [\n",
    "    # Batch of Input\n",
    "    [[ 1  2  3], [ 7  8  9]],\n",
    "    # Batch of targets\n",
    "    [[ 2  3  4], [ 8  9 10]]\n",
    "  ],\n",
    " \n",
    "  # Second Batch\n",
    "  [\n",
    "    # Batch of Input\n",
    "    [[ 4  5  6], [10 11 12]],\n",
    "    # Batch of targets\n",
    "    [[ 5  6  7], [11 12 13]]\n",
    "  ]\n",
    "]\n",
    "```"
   ]
  },
  {
   "cell_type": "code",
   "execution_count": 38,
   "metadata": {
    "collapsed": false,
    "deletable": true,
    "editable": true
   },
   "outputs": [
    {
     "name": "stdout",
     "output_type": "stream",
     "text": [
      "Tests Passed\n"
     ]
    }
   ],
   "source": [
    "def get_batches(int_text, batch_size, seq_length):\n",
    "    \"\"\"\n",
    "    Return batches of input and target\n",
    "    :param int_text: Text with the words replaced by their ids\n",
    "    :param batch_size: The size of batch\n",
    "    :param seq_length: The length of sequence\n",
    "    :return: Batches as a Numpy array\n",
    "    \"\"\"\n",
    "    # TODO: Implement Function\n",
    "    # If I get input of size 15, and batch_size 2\n",
    "    # Fill first batch:\n",
    "    # Take first seq_length characters and add to input_list\n",
    "    # Take seq_length characters, shifted one over, and add to target_list\n",
    "    # Repeat for batch_size\n",
    "    # Skip first seq_length characters and add to batch\n",
    "    num_batches = (len(int_text) - 1) // (batch_size * seq_length) # 2\n",
    "    all_batches = []\n",
    "    for batch in range(int(num_batches)):\n",
    "        batch_final = []\n",
    "        batch_index = int(batch * seq_length)\n",
    "        input_batch = []\n",
    "        target_batch = []\n",
    "        for batch_el in range(batch_size):\n",
    "            input_batch.append(int_text[batch_index+(num_batches*seq_length*batch_el):batch_index+(num_batches*seq_length*batch_el)+seq_length])\n",
    "            target_batch.append(int_text[batch_index+(num_batches*seq_length*batch_el)+1:batch_index+(num_batches*seq_length*batch_el)+seq_length+1])\n",
    "        batch_final = [input_batch, target_batch]\n",
    "        all_batches.append(batch_final)\n",
    "    return np.array(all_batches)\n",
    "\n",
    "\n",
    "\"\"\"\n",
    "DON'T MODIFY ANYTHING IN THIS CELL THAT IS BELOW THIS LINE\n",
    "\"\"\"\n",
    "tests.test_get_batches(get_batches)"
   ]
  },
  {
   "cell_type": "code",
   "execution_count": 39,
   "metadata": {
    "collapsed": false
   },
   "outputs": [
    {
     "name": "stdout",
     "output_type": "stream",
     "text": [
      "[[[[ 1  2  3]\n",
      "   [ 7  8  9]]\n",
      "\n",
      "  [[ 2  3  4]\n",
      "   [ 8  9 10]]]\n",
      "\n",
      "\n",
      " [[[ 4  5  6]\n",
      "   [10 11 12]]\n",
      "\n",
      "  [[ 5  6  7]\n",
      "   [11 12 13]]]]\n",
      "[[[[ 1  2  3]\n",
      "   [ 7  8  9]]\n",
      "\n",
      "  [[ 2  3  4]\n",
      "   [ 8  9 10]]]\n",
      "\n",
      "\n",
      " [[[ 4  5  6]\n",
      "   [10 11 12]]\n",
      "\n",
      "  [[ 5  6  7]\n",
      "   [11 12 13]]]]\n"
     ]
    }
   ],
   "source": [
    "orig = [1, 2, 3, 4, 5, 6, 7, 8, 9, 10, 11, 12, 13, 14, 15]\n",
    "a = [\n",
    "  # First Batch\n",
    "  [\n",
    "    # Batch of Input\n",
    "    [[1, 2, 3], [7, 8, 9]],\n",
    "    # Batch of targets\n",
    "    [[2, 3, 4], [8, 9, 10]]\n",
    "  ],\n",
    "\n",
    "  # Second Batch\n",
    "  [\n",
    "    # Batch of Input\n",
    "    [[4, 5, 6], [10, 11, 12]],\n",
    "    # Batch of targets\n",
    "    [[5, 6, 7], [11, 12, 13]]\n",
    "  ]\n",
    "]\n",
    "print(np.array(a))\n",
    "print(get_batches(orig, 2, 3))"
   ]
  },
  {
   "cell_type": "markdown",
   "metadata": {
    "deletable": true,
    "editable": true
   },
   "source": [
    "## Neural Network Training\n",
    "### Hyperparameters\n",
    "Tune the following parameters:\n",
    "\n",
    "- Set `num_epochs` to the number of epochs.\n",
    "- Set `batch_size` to the batch size.\n",
    "- Set `rnn_size` to the size of the RNNs.\n",
    "- Set `seq_length` to the length of sequence.\n",
    "- Set `learning_rate` to the learning rate.\n",
    "- Set `show_every_n_batches` to the number of batches the neural network should print progress."
   ]
  },
  {
   "cell_type": "code",
   "execution_count": 41,
   "metadata": {
    "collapsed": true,
    "deletable": true,
    "editable": true
   },
   "outputs": [],
   "source": [
    "# Number of Epochs\n",
    "num_epochs = 128\n",
    "# Batch Size\n",
    "batch_size = 64\n",
    "# RNN Size\n",
    "rnn_size = 256\n",
    "# Sequence Length\n",
    "seq_length = 16\n",
    "# Learning Rate\n",
    "learning_rate = 0.002\n",
    "# Show stats for every n number of batches\n",
    "show_every_n_batches = 16\n",
    "\n",
    "\"\"\"\n",
    "DON'T MODIFY ANYTHING IN THIS CELL THAT IS BELOW THIS LINE\n",
    "\"\"\"\n",
    "save_dir = './save'"
   ]
  },
  {
   "cell_type": "markdown",
   "metadata": {
    "deletable": true,
    "editable": true
   },
   "source": [
    "### Build the Graph\n",
    "Build the graph using the neural network you implemented."
   ]
  },
  {
   "cell_type": "code",
   "execution_count": 42,
   "metadata": {
    "collapsed": false,
    "deletable": true,
    "editable": true
   },
   "outputs": [],
   "source": [
    "\"\"\"\n",
    "DON'T MODIFY ANYTHING IN THIS CELL\n",
    "\"\"\"\n",
    "from tensorflow.contrib import seq2seq\n",
    "\n",
    "train_graph = tf.Graph()\n",
    "with train_graph.as_default():\n",
    "    vocab_size = len(int_to_vocab)\n",
    "    input_text, targets, lr = get_inputs()\n",
    "    input_data_shape = tf.shape(input_text)\n",
    "    cell, initial_state = get_init_cell(input_data_shape[0], rnn_size)\n",
    "    logits, final_state = build_nn(cell, rnn_size, input_text, vocab_size)\n",
    "\n",
    "    # Probabilities for generating words\n",
    "    probs = tf.nn.softmax(logits, name='probs')\n",
    "\n",
    "    # Loss function\n",
    "    cost = seq2seq.sequence_loss(\n",
    "        logits,\n",
    "        targets,\n",
    "        tf.ones([input_data_shape[0], input_data_shape[1]]))\n",
    "\n",
    "    # Optimizer\n",
    "    optimizer = tf.train.AdamOptimizer(lr)\n",
    "\n",
    "    # Gradient Clipping\n",
    "    gradients = optimizer.compute_gradients(cost)\n",
    "    capped_gradients = [(tf.clip_by_value(grad, -1., 1.), var) for grad, var in gradients]\n",
    "    train_op = optimizer.apply_gradients(capped_gradients)"
   ]
  },
  {
   "cell_type": "markdown",
   "metadata": {
    "deletable": true,
    "editable": true
   },
   "source": [
    "## Train\n",
    "Train the neural network on the preprocessed data.  If you have a hard time getting a good loss, check the [forms](https://discussions.udacity.com/) to see if anyone is having the same problem."
   ]
  },
  {
   "cell_type": "code",
   "execution_count": 43,
   "metadata": {
    "collapsed": false,
    "deletable": true,
    "editable": true
   },
   "outputs": [
    {
     "name": "stdout",
     "output_type": "stream",
     "text": [
      "Epoch   0 Batch    0/67   train_loss = 8.822\n",
      "Epoch   0 Batch   16/67   train_loss = 6.535\n",
      "Epoch   0 Batch   32/67   train_loss = 6.691\n",
      "Epoch   0 Batch   48/67   train_loss = 6.376\n",
      "Epoch   0 Batch   64/67   train_loss = 6.162\n",
      "Epoch   1 Batch   13/67   train_loss = 6.132\n",
      "Epoch   1 Batch   29/67   train_loss = 6.238\n",
      "Epoch   1 Batch   45/67   train_loss = 6.253\n",
      "Epoch   1 Batch   61/67   train_loss = 6.189\n",
      "Epoch   2 Batch   10/67   train_loss = 6.166\n",
      "Epoch   2 Batch   26/67   train_loss = 6.113\n",
      "Epoch   2 Batch   42/67   train_loss = 6.307\n",
      "Epoch   2 Batch   58/67   train_loss = 6.306\n",
      "Epoch   3 Batch    7/67   train_loss = 6.081\n",
      "Epoch   3 Batch   23/67   train_loss = 6.264\n",
      "Epoch   3 Batch   39/67   train_loss = 6.120\n",
      "Epoch   3 Batch   55/67   train_loss = 6.257\n",
      "Epoch   4 Batch    4/67   train_loss = 6.182\n",
      "Epoch   4 Batch   20/67   train_loss = 6.137\n",
      "Epoch   4 Batch   36/67   train_loss = 6.193\n",
      "Epoch   4 Batch   52/67   train_loss = 6.187\n",
      "Epoch   5 Batch    1/67   train_loss = 6.076\n",
      "Epoch   5 Batch   17/67   train_loss = 6.206\n",
      "Epoch   5 Batch   33/67   train_loss = 6.115\n",
      "Epoch   5 Batch   49/67   train_loss = 6.157\n",
      "Epoch   5 Batch   65/67   train_loss = 6.088\n",
      "Epoch   6 Batch   14/67   train_loss = 6.197\n",
      "Epoch   6 Batch   30/67   train_loss = 6.100\n",
      "Epoch   6 Batch   46/67   train_loss = 6.209\n",
      "Epoch   6 Batch   62/67   train_loss = 6.173\n",
      "Epoch   7 Batch   11/67   train_loss = 6.067\n",
      "Epoch   7 Batch   27/67   train_loss = 6.298\n",
      "Epoch   7 Batch   43/67   train_loss = 6.269\n",
      "Epoch   7 Batch   59/67   train_loss = 6.143\n",
      "Epoch   8 Batch    8/67   train_loss = 6.055\n",
      "Epoch   8 Batch   24/67   train_loss = 6.094\n",
      "Epoch   8 Batch   40/67   train_loss = 6.391\n",
      "Epoch   8 Batch   56/67   train_loss = 6.213\n",
      "Epoch   9 Batch    5/67   train_loss = 6.301\n",
      "Epoch   9 Batch   21/67   train_loss = 6.131\n",
      "Epoch   9 Batch   37/67   train_loss = 6.317\n",
      "Epoch   9 Batch   53/67   train_loss = 6.255\n",
      "Epoch  10 Batch    2/67   train_loss = 5.995\n",
      "Epoch  10 Batch   18/67   train_loss = 6.250\n",
      "Epoch  10 Batch   34/67   train_loss = 6.106\n",
      "Epoch  10 Batch   50/67   train_loss = 6.056\n",
      "Epoch  10 Batch   66/67   train_loss = 6.012\n",
      "Epoch  11 Batch   15/67   train_loss = 6.171\n",
      "Epoch  11 Batch   31/67   train_loss = 6.086\n",
      "Epoch  11 Batch   47/67   train_loss = 6.218\n",
      "Epoch  11 Batch   63/67   train_loss = 6.149\n",
      "Epoch  12 Batch   12/67   train_loss = 6.077\n",
      "Epoch  12 Batch   28/67   train_loss = 6.218\n",
      "Epoch  12 Batch   44/67   train_loss = 6.255\n",
      "Epoch  12 Batch   60/67   train_loss = 6.071\n",
      "Epoch  13 Batch    9/67   train_loss = 6.099\n",
      "Epoch  13 Batch   25/67   train_loss = 6.123\n",
      "Epoch  13 Batch   41/67   train_loss = 6.152\n",
      "Epoch  13 Batch   57/67   train_loss = 6.098\n",
      "Epoch  14 Batch    6/67   train_loss = 6.126\n",
      "Epoch  14 Batch   22/67   train_loss = 5.941\n",
      "Epoch  14 Batch   38/67   train_loss = 6.281\n",
      "Epoch  14 Batch   54/67   train_loss = 6.118\n",
      "Epoch  15 Batch    3/67   train_loss = 6.098\n",
      "Epoch  15 Batch   19/67   train_loss = 6.118\n",
      "Epoch  15 Batch   35/67   train_loss = 6.071\n",
      "Epoch  15 Batch   51/67   train_loss = 6.115\n",
      "Epoch  16 Batch    0/67   train_loss = 6.025\n",
      "Epoch  16 Batch   16/67   train_loss = 6.107\n",
      "Epoch  16 Batch   32/67   train_loss = 6.247\n",
      "Epoch  16 Batch   48/67   train_loss = 6.097\n",
      "Epoch  16 Batch   64/67   train_loss = 5.929\n",
      "Epoch  17 Batch   13/67   train_loss = 5.877\n",
      "Epoch  17 Batch   29/67   train_loss = 5.837\n",
      "Epoch  17 Batch   45/67   train_loss = 5.708\n",
      "Epoch  17 Batch   61/67   train_loss = 5.589\n",
      "Epoch  18 Batch   10/67   train_loss = 5.414\n",
      "Epoch  18 Batch   26/67   train_loss = 5.267\n",
      "Epoch  18 Batch   42/67   train_loss = 5.432\n",
      "Epoch  18 Batch   58/67   train_loss = 5.329\n",
      "Epoch  19 Batch    7/67   train_loss = 5.037\n",
      "Epoch  19 Batch   23/67   train_loss = 5.086\n",
      "Epoch  19 Batch   39/67   train_loss = 4.915\n",
      "Epoch  19 Batch   55/67   train_loss = 5.040\n",
      "Epoch  20 Batch    4/67   train_loss = 4.883\n",
      "Epoch  20 Batch   20/67   train_loss = 4.856\n",
      "Epoch  20 Batch   36/67   train_loss = 4.853\n",
      "Epoch  20 Batch   52/67   train_loss = 4.975\n",
      "Epoch  21 Batch    1/67   train_loss = 4.705\n",
      "Epoch  21 Batch   17/67   train_loss = 4.817\n",
      "Epoch  21 Batch   33/67   train_loss = 4.676\n",
      "Epoch  21 Batch   49/67   train_loss = 4.633\n",
      "Epoch  21 Batch   65/67   train_loss = 4.483\n",
      "Epoch  22 Batch   14/67   train_loss = 4.655\n",
      "Epoch  22 Batch   30/67   train_loss = 4.535\n",
      "Epoch  22 Batch   46/67   train_loss = 4.518\n",
      "Epoch  22 Batch   62/67   train_loss = 4.541\n",
      "Epoch  23 Batch   11/67   train_loss = 4.434\n",
      "Epoch  23 Batch   27/67   train_loss = 4.641\n",
      "Epoch  23 Batch   43/67   train_loss = 4.576\n",
      "Epoch  23 Batch   59/67   train_loss = 4.438\n",
      "Epoch  24 Batch    8/67   train_loss = 4.304\n",
      "Epoch  24 Batch   24/67   train_loss = 4.319\n",
      "Epoch  24 Batch   40/67   train_loss = 4.524\n",
      "Epoch  24 Batch   56/67   train_loss = 4.366\n",
      "Epoch  25 Batch    5/67   train_loss = 4.429\n",
      "Epoch  25 Batch   21/67   train_loss = 4.243\n",
      "Epoch  25 Batch   37/67   train_loss = 4.418\n",
      "Epoch  25 Batch   53/67   train_loss = 4.438\n",
      "Epoch  26 Batch    2/67   train_loss = 4.067\n",
      "Epoch  26 Batch   18/67   train_loss = 4.249\n",
      "Epoch  26 Batch   34/67   train_loss = 4.145\n",
      "Epoch  26 Batch   50/67   train_loss = 4.014\n",
      "Epoch  26 Batch   66/67   train_loss = 3.978\n",
      "Epoch  27 Batch   15/67   train_loss = 4.071\n",
      "Epoch  27 Batch   31/67   train_loss = 4.022\n",
      "Epoch  27 Batch   47/67   train_loss = 4.165\n",
      "Epoch  27 Batch   63/67   train_loss = 4.065\n",
      "Epoch  28 Batch   12/67   train_loss = 3.974\n",
      "Epoch  28 Batch   28/67   train_loss = 4.023\n",
      "Epoch  28 Batch   44/67   train_loss = 4.031\n",
      "Epoch  28 Batch   60/67   train_loss = 3.879\n",
      "Epoch  29 Batch    9/67   train_loss = 3.886\n",
      "Epoch  29 Batch   25/67   train_loss = 3.994\n",
      "Epoch  29 Batch   41/67   train_loss = 3.863\n",
      "Epoch  29 Batch   57/67   train_loss = 3.772\n",
      "Epoch  30 Batch    6/67   train_loss = 3.800\n",
      "Epoch  30 Batch   22/67   train_loss = 3.718\n",
      "Epoch  30 Batch   38/67   train_loss = 4.021\n",
      "Epoch  30 Batch   54/67   train_loss = 3.915\n",
      "Epoch  31 Batch    3/67   train_loss = 3.792\n",
      "Epoch  31 Batch   19/67   train_loss = 3.638\n",
      "Epoch  31 Batch   35/67   train_loss = 3.697\n",
      "Epoch  31 Batch   51/67   train_loss = 3.825\n",
      "Epoch  32 Batch    0/67   train_loss = 3.750\n",
      "Epoch  32 Batch   16/67   train_loss = 3.681\n",
      "Epoch  32 Batch   32/67   train_loss = 3.794\n",
      "Epoch  32 Batch   48/67   train_loss = 3.852\n",
      "Epoch  32 Batch   64/67   train_loss = 3.676\n",
      "Epoch  33 Batch   13/67   train_loss = 3.653\n",
      "Epoch  33 Batch   29/67   train_loss = 3.759\n",
      "Epoch  33 Batch   45/67   train_loss = 3.691\n",
      "Epoch  33 Batch   61/67   train_loss = 3.826\n",
      "Epoch  34 Batch   10/67   train_loss = 3.651\n",
      "Epoch  34 Batch   26/67   train_loss = 3.529\n",
      "Epoch  34 Batch   42/67   train_loss = 3.614\n",
      "Epoch  34 Batch   58/67   train_loss = 3.710\n",
      "Epoch  35 Batch    7/67   train_loss = 3.546\n",
      "Epoch  35 Batch   23/67   train_loss = 3.519\n",
      "Epoch  35 Batch   39/67   train_loss = 3.446\n",
      "Epoch  35 Batch   55/67   train_loss = 3.489\n",
      "Epoch  36 Batch    4/67   train_loss = 3.394\n",
      "Epoch  36 Batch   20/67   train_loss = 3.393\n",
      "Epoch  36 Batch   36/67   train_loss = 3.412\n",
      "Epoch  36 Batch   52/67   train_loss = 3.545\n",
      "Epoch  37 Batch    1/67   train_loss = 3.290\n",
      "Epoch  37 Batch   17/67   train_loss = 3.471\n",
      "Epoch  37 Batch   33/67   train_loss = 3.321\n",
      "Epoch  37 Batch   49/67   train_loss = 3.304\n",
      "Epoch  37 Batch   65/67   train_loss = 3.222\n",
      "Epoch  38 Batch   14/67   train_loss = 3.308\n",
      "Epoch  38 Batch   30/67   train_loss = 3.270\n",
      "Epoch  38 Batch   46/67   train_loss = 3.228\n",
      "Epoch  38 Batch   62/67   train_loss = 3.273\n",
      "Epoch  39 Batch   11/67   train_loss = 3.141\n",
      "Epoch  39 Batch   27/67   train_loss = 3.312\n",
      "Epoch  39 Batch   43/67   train_loss = 3.364\n",
      "Epoch  39 Batch   59/67   train_loss = 3.308\n",
      "Epoch  40 Batch    8/67   train_loss = 3.126\n",
      "Epoch  40 Batch   24/67   train_loss = 3.148\n",
      "Epoch  40 Batch   40/67   train_loss = 3.263\n",
      "Epoch  40 Batch   56/67   train_loss = 3.209\n",
      "Epoch  41 Batch    5/67   train_loss = 3.113\n",
      "Epoch  41 Batch   21/67   train_loss = 3.093\n",
      "Epoch  41 Batch   37/67   train_loss = 3.179\n",
      "Epoch  41 Batch   53/67   train_loss = 3.201\n",
      "Epoch  42 Batch    2/67   train_loss = 3.010\n",
      "Epoch  42 Batch   18/67   train_loss = 3.066\n",
      "Epoch  42 Batch   34/67   train_loss = 2.971\n",
      "Epoch  42 Batch   50/67   train_loss = 2.872\n",
      "Epoch  42 Batch   66/67   train_loss = 2.916\n",
      "Epoch  43 Batch   15/67   train_loss = 3.003\n",
      "Epoch  43 Batch   31/67   train_loss = 2.951\n",
      "Epoch  43 Batch   47/67   train_loss = 3.100\n",
      "Epoch  43 Batch   63/67   train_loss = 2.963\n",
      "Epoch  44 Batch   12/67   train_loss = 2.985\n",
      "Epoch  44 Batch   28/67   train_loss = 3.017\n",
      "Epoch  44 Batch   44/67   train_loss = 2.906\n",
      "Epoch  44 Batch   60/67   train_loss = 2.876\n",
      "Epoch  45 Batch    9/67   train_loss = 2.788\n",
      "Epoch  45 Batch   25/67   train_loss = 2.890\n",
      "Epoch  45 Batch   41/67   train_loss = 2.867\n",
      "Epoch  45 Batch   57/67   train_loss = 2.718\n",
      "Epoch  46 Batch    6/67   train_loss = 2.813\n",
      "Epoch  46 Batch   22/67   train_loss = 2.775\n",
      "Epoch  46 Batch   38/67   train_loss = 2.803\n",
      "Epoch  46 Batch   54/67   train_loss = 2.752\n",
      "Epoch  47 Batch    3/67   train_loss = 2.975\n",
      "Epoch  47 Batch   19/67   train_loss = 2.642\n",
      "Epoch  47 Batch   35/67   train_loss = 2.738\n",
      "Epoch  47 Batch   51/67   train_loss = 2.743\n",
      "Epoch  48 Batch    0/67   train_loss = 2.808\n",
      "Epoch  48 Batch   16/67   train_loss = 2.771\n",
      "Epoch  48 Batch   32/67   train_loss = 2.797\n",
      "Epoch  48 Batch   48/67   train_loss = 2.759\n",
      "Epoch  48 Batch   64/67   train_loss = 2.777\n",
      "Epoch  49 Batch   13/67   train_loss = 2.729\n",
      "Epoch  49 Batch   29/67   train_loss = 2.764\n",
      "Epoch  49 Batch   45/67   train_loss = 2.662\n",
      "Epoch  49 Batch   61/67   train_loss = 2.690\n",
      "Epoch  50 Batch   10/67   train_loss = 2.667\n",
      "Epoch  50 Batch   26/67   train_loss = 2.667\n",
      "Epoch  50 Batch   42/67   train_loss = 2.580\n",
      "Epoch  50 Batch   58/67   train_loss = 2.655\n",
      "Epoch  51 Batch    7/67   train_loss = 2.638\n",
      "Epoch  51 Batch   23/67   train_loss = 2.535\n",
      "Epoch  51 Batch   39/67   train_loss = 2.602\n",
      "Epoch  51 Batch   55/67   train_loss = 2.660\n",
      "Epoch  52 Batch    4/67   train_loss = 2.480\n",
      "Epoch  52 Batch   20/67   train_loss = 2.528\n",
      "Epoch  52 Batch   36/67   train_loss = 2.466\n",
      "Epoch  52 Batch   52/67   train_loss = 2.598\n",
      "Epoch  53 Batch    1/67   train_loss = 2.471\n",
      "Epoch  53 Batch   17/67   train_loss = 2.516\n",
      "Epoch  53 Batch   33/67   train_loss = 2.460\n",
      "Epoch  53 Batch   49/67   train_loss = 2.363\n",
      "Epoch  53 Batch   65/67   train_loss = 2.373\n",
      "Epoch  54 Batch   14/67   train_loss = 2.464\n",
      "Epoch  54 Batch   30/67   train_loss = 2.317\n",
      "Epoch  54 Batch   46/67   train_loss = 2.371\n",
      "Epoch  54 Batch   62/67   train_loss = 2.388\n",
      "Epoch  55 Batch   11/67   train_loss = 2.308\n",
      "Epoch  55 Batch   27/67   train_loss = 2.433\n",
      "Epoch  55 Batch   43/67   train_loss = 2.362\n",
      "Epoch  55 Batch   59/67   train_loss = 2.390\n",
      "Epoch  56 Batch    8/67   train_loss = 2.356\n",
      "Epoch  56 Batch   24/67   train_loss = 2.296\n",
      "Epoch  56 Batch   40/67   train_loss = 2.411\n",
      "Epoch  56 Batch   56/67   train_loss = 2.353\n",
      "Epoch  57 Batch    5/67   train_loss = 2.221\n",
      "Epoch  57 Batch   21/67   train_loss = 2.383\n",
      "Epoch  57 Batch   37/67   train_loss = 2.390\n",
      "Epoch  57 Batch   53/67   train_loss = 2.334\n",
      "Epoch  58 Batch    2/67   train_loss = 2.276\n",
      "Epoch  58 Batch   18/67   train_loss = 2.262\n",
      "Epoch  58 Batch   34/67   train_loss = 2.278\n",
      "Epoch  58 Batch   50/67   train_loss = 2.197\n",
      "Epoch  58 Batch   66/67   train_loss = 2.134\n",
      "Epoch  59 Batch   15/67   train_loss = 2.293\n",
      "Epoch  59 Batch   31/67   train_loss = 2.200\n",
      "Epoch  59 Batch   47/67   train_loss = 2.406\n",
      "Epoch  59 Batch   63/67   train_loss = 2.275\n",
      "Epoch  60 Batch   12/67   train_loss = 2.245\n",
      "Epoch  60 Batch   28/67   train_loss = 2.250\n",
      "Epoch  60 Batch   44/67   train_loss = 2.200\n",
      "Epoch  60 Batch   60/67   train_loss = 2.095\n",
      "Epoch  61 Batch    9/67   train_loss = 2.178\n",
      "Epoch  61 Batch   25/67   train_loss = 2.217\n",
      "Epoch  61 Batch   41/67   train_loss = 2.099\n",
      "Epoch  61 Batch   57/67   train_loss = 2.104\n",
      "Epoch  62 Batch    6/67   train_loss = 2.007\n",
      "Epoch  62 Batch   22/67   train_loss = 2.098\n",
      "Epoch  62 Batch   38/67   train_loss = 2.184\n",
      "Epoch  62 Batch   54/67   train_loss = 2.062\n",
      "Epoch  63 Batch    3/67   train_loss = 2.152\n",
      "Epoch  63 Batch   19/67   train_loss = 1.939\n",
      "Epoch  63 Batch   35/67   train_loss = 1.994\n",
      "Epoch  63 Batch   51/67   train_loss = 2.027\n",
      "Epoch  64 Batch    0/67   train_loss = 2.070\n",
      "Epoch  64 Batch   16/67   train_loss = 1.999\n",
      "Epoch  64 Batch   32/67   train_loss = 1.953\n",
      "Epoch  64 Batch   48/67   train_loss = 1.938\n",
      "Epoch  64 Batch   64/67   train_loss = 2.007\n",
      "Epoch  65 Batch   13/67   train_loss = 1.911\n",
      "Epoch  65 Batch   29/67   train_loss = 1.954\n",
      "Epoch  65 Batch   45/67   train_loss = 1.844\n",
      "Epoch  65 Batch   61/67   train_loss = 1.903\n",
      "Epoch  66 Batch   10/67   train_loss = 1.934\n",
      "Epoch  66 Batch   26/67   train_loss = 1.979\n",
      "Epoch  66 Batch   42/67   train_loss = 1.767\n",
      "Epoch  66 Batch   58/67   train_loss = 1.859\n",
      "Epoch  67 Batch    7/67   train_loss = 1.888\n",
      "Epoch  67 Batch   23/67   train_loss = 1.831\n",
      "Epoch  67 Batch   39/67   train_loss = 1.853\n",
      "Epoch  67 Batch   55/67   train_loss = 1.841\n",
      "Epoch  68 Batch    4/67   train_loss = 1.679\n",
      "Epoch  68 Batch   20/67   train_loss = 1.803\n",
      "Epoch  68 Batch   36/67   train_loss = 1.832\n",
      "Epoch  68 Batch   52/67   train_loss = 1.904\n",
      "Epoch  69 Batch    1/67   train_loss = 1.842\n",
      "Epoch  69 Batch   17/67   train_loss = 1.832\n",
      "Epoch  69 Batch   33/67   train_loss = 1.748\n",
      "Epoch  69 Batch   49/67   train_loss = 1.787\n",
      "Epoch  69 Batch   65/67   train_loss = 1.849\n",
      "Epoch  70 Batch   14/67   train_loss = 1.824\n",
      "Epoch  70 Batch   30/67   train_loss = 1.696\n",
      "Epoch  70 Batch   46/67   train_loss = 1.595\n",
      "Epoch  70 Batch   62/67   train_loss = 1.821\n",
      "Epoch  71 Batch   11/67   train_loss = 1.687\n",
      "Epoch  71 Batch   27/67   train_loss = 1.699\n",
      "Epoch  71 Batch   43/67   train_loss = 1.691\n",
      "Epoch  71 Batch   59/67   train_loss = 1.694\n",
      "Epoch  72 Batch    8/67   train_loss = 1.778\n",
      "Epoch  72 Batch   24/67   train_loss = 1.848\n",
      "Epoch  72 Batch   40/67   train_loss = 1.738\n",
      "Epoch  72 Batch   56/67   train_loss = 1.686\n",
      "Epoch  73 Batch    5/67   train_loss = 1.600\n",
      "Epoch  73 Batch   21/67   train_loss = 1.764\n",
      "Epoch  73 Batch   37/67   train_loss = 1.751\n",
      "Epoch  73 Batch   53/67   train_loss = 1.710\n",
      "Epoch  74 Batch    2/67   train_loss = 1.679\n",
      "Epoch  74 Batch   18/67   train_loss = 1.655\n",
      "Epoch  74 Batch   34/67   train_loss = 1.625\n",
      "Epoch  74 Batch   50/67   train_loss = 1.545\n",
      "Epoch  74 Batch   66/67   train_loss = 1.547\n",
      "Epoch  75 Batch   15/67   train_loss = 1.596\n",
      "Epoch  75 Batch   31/67   train_loss = 1.652\n",
      "Epoch  75 Batch   47/67   train_loss = 1.743\n",
      "Epoch  75 Batch   63/67   train_loss = 1.615\n",
      "Epoch  76 Batch   12/67   train_loss = 1.733\n",
      "Epoch  76 Batch   28/67   train_loss = 1.625\n",
      "Epoch  76 Batch   44/67   train_loss = 1.457\n",
      "Epoch  76 Batch   60/67   train_loss = 1.538\n",
      "Epoch  77 Batch    9/67   train_loss = 1.464\n",
      "Epoch  77 Batch   25/67   train_loss = 1.595\n",
      "Epoch  77 Batch   41/67   train_loss = 1.627\n",
      "Epoch  77 Batch   57/67   train_loss = 1.506\n",
      "Epoch  78 Batch    6/67   train_loss = 1.467\n",
      "Epoch  78 Batch   22/67   train_loss = 1.599\n",
      "Epoch  78 Batch   38/67   train_loss = 1.546\n",
      "Epoch  78 Batch   54/67   train_loss = 1.455\n",
      "Epoch  79 Batch    3/67   train_loss = 1.716\n",
      "Epoch  79 Batch   19/67   train_loss = 1.406\n",
      "Epoch  79 Batch   35/67   train_loss = 1.503\n",
      "Epoch  79 Batch   51/67   train_loss = 1.571\n",
      "Epoch  80 Batch    0/67   train_loss = 1.554\n",
      "Epoch  80 Batch   16/67   train_loss = 1.474\n",
      "Epoch  80 Batch   32/67   train_loss = 1.477\n",
      "Epoch  80 Batch   48/67   train_loss = 1.416\n",
      "Epoch  80 Batch   64/67   train_loss = 1.463\n",
      "Epoch  81 Batch   13/67   train_loss = 1.460\n",
      "Epoch  81 Batch   29/67   train_loss = 1.494\n",
      "Epoch  81 Batch   45/67   train_loss = 1.356\n",
      "Epoch  81 Batch   61/67   train_loss = 1.388\n",
      "Epoch  82 Batch   10/67   train_loss = 1.417\n",
      "Epoch  82 Batch   26/67   train_loss = 1.436\n",
      "Epoch  82 Batch   42/67   train_loss = 1.269\n",
      "Epoch  82 Batch   58/67   train_loss = 1.352\n",
      "Epoch  83 Batch    7/67   train_loss = 1.349\n",
      "Epoch  83 Batch   23/67   train_loss = 1.276\n",
      "Epoch  83 Batch   39/67   train_loss = 1.364\n",
      "Epoch  83 Batch   55/67   train_loss = 1.285\n",
      "Epoch  84 Batch    4/67   train_loss = 1.217\n",
      "Epoch  84 Batch   20/67   train_loss = 1.301\n",
      "Epoch  84 Batch   36/67   train_loss = 1.237\n",
      "Epoch  84 Batch   52/67   train_loss = 1.290\n",
      "Epoch  85 Batch    1/67   train_loss = 1.265\n",
      "Epoch  85 Batch   17/67   train_loss = 1.345\n",
      "Epoch  85 Batch   33/67   train_loss = 1.201\n",
      "Epoch  85 Batch   49/67   train_loss = 1.222\n",
      "Epoch  85 Batch   65/67   train_loss = 1.221\n",
      "Epoch  86 Batch   14/67   train_loss = 1.270\n",
      "Epoch  86 Batch   30/67   train_loss = 1.144\n",
      "Epoch  86 Batch   46/67   train_loss = 1.055\n",
      "Epoch  86 Batch   62/67   train_loss = 1.191\n",
      "Epoch  87 Batch   11/67   train_loss = 1.099\n",
      "Epoch  87 Batch   27/67   train_loss = 1.211\n",
      "Epoch  87 Batch   43/67   train_loss = 1.203\n",
      "Epoch  87 Batch   59/67   train_loss = 1.154\n",
      "Epoch  88 Batch    8/67   train_loss = 1.136\n",
      "Epoch  88 Batch   24/67   train_loss = 1.149\n",
      "Epoch  88 Batch   40/67   train_loss = 1.144\n",
      "Epoch  88 Batch   56/67   train_loss = 1.082\n",
      "Epoch  89 Batch    5/67   train_loss = 1.020\n",
      "Epoch  89 Batch   21/67   train_loss = 1.156\n",
      "Epoch  89 Batch   37/67   train_loss = 1.110\n",
      "Epoch  89 Batch   53/67   train_loss = 1.061\n",
      "Epoch  90 Batch    2/67   train_loss = 1.083\n",
      "Epoch  90 Batch   18/67   train_loss = 1.058\n",
      "Epoch  90 Batch   34/67   train_loss = 1.106\n",
      "Epoch  90 Batch   50/67   train_loss = 1.032\n",
      "Epoch  90 Batch   66/67   train_loss = 0.982\n",
      "Epoch  91 Batch   15/67   train_loss = 1.039\n",
      "Epoch  91 Batch   31/67   train_loss = 1.050\n",
      "Epoch  91 Batch   47/67   train_loss = 1.085\n",
      "Epoch  91 Batch   63/67   train_loss = 1.031\n",
      "Epoch  92 Batch   12/67   train_loss = 1.122\n",
      "Epoch  92 Batch   28/67   train_loss = 0.974\n",
      "Epoch  92 Batch   44/67   train_loss = 0.949\n",
      "Epoch  92 Batch   60/67   train_loss = 0.991\n",
      "Epoch  93 Batch    9/67   train_loss = 0.934\n",
      "Epoch  93 Batch   25/67   train_loss = 1.073\n",
      "Epoch  93 Batch   41/67   train_loss = 1.074\n",
      "Epoch  93 Batch   57/67   train_loss = 0.992\n",
      "Epoch  94 Batch    6/67   train_loss = 0.936\n",
      "Epoch  94 Batch   22/67   train_loss = 1.064\n",
      "Epoch  94 Batch   38/67   train_loss = 0.901\n",
      "Epoch  94 Batch   54/67   train_loss = 0.954\n",
      "Epoch  95 Batch    3/67   train_loss = 1.127\n",
      "Epoch  95 Batch   19/67   train_loss = 0.890\n",
      "Epoch  95 Batch   35/67   train_loss = 0.980\n",
      "Epoch  95 Batch   51/67   train_loss = 0.993\n",
      "Epoch  96 Batch    0/67   train_loss = 1.022\n",
      "Epoch  96 Batch   16/67   train_loss = 0.951\n",
      "Epoch  96 Batch   32/67   train_loss = 1.041\n",
      "Epoch  96 Batch   48/67   train_loss = 0.911\n",
      "Epoch  96 Batch   64/67   train_loss = 1.012\n",
      "Epoch  97 Batch   13/67   train_loss = 0.963\n",
      "Epoch  97 Batch   29/67   train_loss = 0.974\n",
      "Epoch  97 Batch   45/67   train_loss = 0.923\n",
      "Epoch  97 Batch   61/67   train_loss = 0.934\n",
      "Epoch  98 Batch   10/67   train_loss = 0.948\n",
      "Epoch  98 Batch   26/67   train_loss = 1.018\n",
      "Epoch  98 Batch   42/67   train_loss = 0.884\n",
      "Epoch  98 Batch   58/67   train_loss = 0.864\n",
      "Epoch  99 Batch    7/67   train_loss = 0.969\n",
      "Epoch  99 Batch   23/67   train_loss = 0.914\n",
      "Epoch  99 Batch   39/67   train_loss = 1.022\n",
      "Epoch  99 Batch   55/67   train_loss = 0.976\n",
      "Epoch 100 Batch    4/67   train_loss = 0.827\n",
      "Epoch 100 Batch   20/67   train_loss = 0.932\n",
      "Epoch 100 Batch   36/67   train_loss = 0.878\n",
      "Epoch 100 Batch   52/67   train_loss = 0.929\n",
      "Epoch 101 Batch    1/67   train_loss = 0.898\n",
      "Epoch 101 Batch   17/67   train_loss = 0.956\n",
      "Epoch 101 Batch   33/67   train_loss = 0.849\n",
      "Epoch 101 Batch   49/67   train_loss = 0.871\n",
      "Epoch 101 Batch   65/67   train_loss = 0.866\n",
      "Epoch 102 Batch   14/67   train_loss = 0.869\n",
      "Epoch 102 Batch   30/67   train_loss = 0.802\n",
      "Epoch 102 Batch   46/67   train_loss = 0.776\n",
      "Epoch 102 Batch   62/67   train_loss = 0.916\n",
      "Epoch 103 Batch   11/67   train_loss = 0.801\n",
      "Epoch 103 Batch   27/67   train_loss = 0.872\n",
      "Epoch 103 Batch   43/67   train_loss = 0.812\n",
      "Epoch 103 Batch   59/67   train_loss = 0.841\n",
      "Epoch 104 Batch    8/67   train_loss = 0.799\n",
      "Epoch 104 Batch   24/67   train_loss = 0.847\n",
      "Epoch 104 Batch   40/67   train_loss = 0.847\n",
      "Epoch 104 Batch   56/67   train_loss = 0.797\n",
      "Epoch 105 Batch    5/67   train_loss = 0.769\n",
      "Epoch 105 Batch   21/67   train_loss = 0.831\n",
      "Epoch 105 Batch   37/67   train_loss = 0.773\n",
      "Epoch 105 Batch   53/67   train_loss = 0.687\n",
      "Epoch 106 Batch    2/67   train_loss = 0.721\n",
      "Epoch 106 Batch   18/67   train_loss = 0.736\n",
      "Epoch 106 Batch   34/67   train_loss = 0.788\n",
      "Epoch 106 Batch   50/67   train_loss = 0.745\n",
      "Epoch 106 Batch   66/67   train_loss = 0.685\n",
      "Epoch 107 Batch   15/67   train_loss = 0.737\n",
      "Epoch 107 Batch   31/67   train_loss = 0.736\n",
      "Epoch 107 Batch   47/67   train_loss = 0.752\n",
      "Epoch 107 Batch   63/67   train_loss = 0.772\n",
      "Epoch 108 Batch   12/67   train_loss = 0.765\n",
      "Epoch 108 Batch   28/67   train_loss = 0.611\n",
      "Epoch 108 Batch   44/67   train_loss = 0.631\n",
      "Epoch 108 Batch   60/67   train_loss = 0.663\n",
      "Epoch 109 Batch    9/67   train_loss = 0.668\n",
      "Epoch 109 Batch   25/67   train_loss = 0.679\n",
      "Epoch 109 Batch   41/67   train_loss = 0.627\n",
      "Epoch 109 Batch   57/67   train_loss = 0.638\n",
      "Epoch 110 Batch    6/67   train_loss = 0.662\n",
      "Epoch 110 Batch   22/67   train_loss = 0.752\n",
      "Epoch 110 Batch   38/67   train_loss = 0.567\n",
      "Epoch 110 Batch   54/67   train_loss = 0.574\n",
      "Epoch 111 Batch    3/67   train_loss = 0.655\n",
      "Epoch 111 Batch   19/67   train_loss = 0.616\n",
      "Epoch 111 Batch   35/67   train_loss = 0.724\n",
      "Epoch 111 Batch   51/67   train_loss = 0.685\n",
      "Epoch 112 Batch    0/67   train_loss = 0.654\n",
      "Epoch 112 Batch   16/67   train_loss = 0.651\n",
      "Epoch 112 Batch   32/67   train_loss = 0.691\n",
      "Epoch 112 Batch   48/67   train_loss = 0.652\n",
      "Epoch 112 Batch   64/67   train_loss = 0.593\n",
      "Epoch 113 Batch   13/67   train_loss = 0.578\n",
      "Epoch 113 Batch   29/67   train_loss = 0.611\n",
      "Epoch 113 Batch   45/67   train_loss = 0.638\n",
      "Epoch 113 Batch   61/67   train_loss = 0.655\n",
      "Epoch 114 Batch   10/67   train_loss = 0.620\n",
      "Epoch 114 Batch   26/67   train_loss = 0.640\n",
      "Epoch 114 Batch   42/67   train_loss = 0.575\n",
      "Epoch 114 Batch   58/67   train_loss = 0.678\n",
      "Epoch 115 Batch    7/67   train_loss = 0.673\n",
      "Epoch 115 Batch   23/67   train_loss = 0.656\n",
      "Epoch 115 Batch   39/67   train_loss = 0.646\n",
      "Epoch 115 Batch   55/67   train_loss = 0.618\n",
      "Epoch 116 Batch    4/67   train_loss = 0.570\n",
      "Epoch 116 Batch   20/67   train_loss = 0.607\n",
      "Epoch 116 Batch   36/67   train_loss = 0.605\n",
      "Epoch 116 Batch   52/67   train_loss = 0.626\n",
      "Epoch 117 Batch    1/67   train_loss = 0.595\n",
      "Epoch 117 Batch   17/67   train_loss = 0.664\n",
      "Epoch 117 Batch   33/67   train_loss = 0.543\n",
      "Epoch 117 Batch   49/67   train_loss = 0.669\n",
      "Epoch 117 Batch   65/67   train_loss = 0.622\n",
      "Epoch 118 Batch   14/67   train_loss = 0.618\n",
      "Epoch 118 Batch   30/67   train_loss = 0.526\n",
      "Epoch 118 Batch   46/67   train_loss = 0.486\n",
      "Epoch 118 Batch   62/67   train_loss = 0.630\n",
      "Epoch 119 Batch   11/67   train_loss = 0.566\n",
      "Epoch 119 Batch   27/67   train_loss = 0.594\n",
      "Epoch 119 Batch   43/67   train_loss = 0.643\n",
      "Epoch 119 Batch   59/67   train_loss = 0.600\n",
      "Epoch 120 Batch    8/67   train_loss = 0.573\n",
      "Epoch 120 Batch   24/67   train_loss = 0.598\n",
      "Epoch 120 Batch   40/67   train_loss = 0.535\n",
      "Epoch 120 Batch   56/67   train_loss = 0.603\n",
      "Epoch 121 Batch    5/67   train_loss = 0.562\n",
      "Epoch 121 Batch   21/67   train_loss = 0.603\n",
      "Epoch 121 Batch   37/67   train_loss = 0.643\n",
      "Epoch 121 Batch   53/67   train_loss = 0.558\n",
      "Epoch 122 Batch    2/67   train_loss = 0.591\n",
      "Epoch 122 Batch   18/67   train_loss = 0.589\n",
      "Epoch 122 Batch   34/67   train_loss = 0.573\n",
      "Epoch 122 Batch   50/67   train_loss = 0.579\n",
      "Epoch 122 Batch   66/67   train_loss = 0.592\n",
      "Epoch 123 Batch   15/67   train_loss = 0.568\n",
      "Epoch 123 Batch   31/67   train_loss = 0.618\n",
      "Epoch 123 Batch   47/67   train_loss = 0.527\n",
      "Epoch 123 Batch   63/67   train_loss = 0.540\n",
      "Epoch 124 Batch   12/67   train_loss = 0.653\n",
      "Epoch 124 Batch   28/67   train_loss = 0.462\n",
      "Epoch 124 Batch   44/67   train_loss = 0.453\n",
      "Epoch 124 Batch   60/67   train_loss = 0.510\n",
      "Epoch 125 Batch    9/67   train_loss = 0.462\n",
      "Epoch 125 Batch   25/67   train_loss = 0.550\n",
      "Epoch 125 Batch   41/67   train_loss = 0.576\n",
      "Epoch 125 Batch   57/67   train_loss = 0.462\n",
      "Epoch 126 Batch    6/67   train_loss = 0.453\n",
      "Epoch 126 Batch   22/67   train_loss = 0.558\n",
      "Epoch 126 Batch   38/67   train_loss = 0.478\n",
      "Epoch 126 Batch   54/67   train_loss = 0.480\n",
      "Epoch 127 Batch    3/67   train_loss = 0.517\n",
      "Epoch 127 Batch   19/67   train_loss = 0.383\n",
      "Epoch 127 Batch   35/67   train_loss = 0.480\n",
      "Epoch 127 Batch   51/67   train_loss = 0.519\n",
      "Model Trained and Saved\n"
     ]
    }
   ],
   "source": [
    "\"\"\"\n",
    "DON'T MODIFY ANYTHING IN THIS CELL\n",
    "\"\"\"\n",
    "batches = get_batches(int_text, batch_size, seq_length)\n",
    "\n",
    "with tf.Session(graph=train_graph) as sess:\n",
    "    sess.run(tf.global_variables_initializer())\n",
    "\n",
    "    for epoch_i in range(num_epochs):\n",
    "        state = sess.run(initial_state, {input_text: batches[0][0]})\n",
    "\n",
    "        for batch_i, (x, y) in enumerate(batches):\n",
    "            feed = {\n",
    "                input_text: x,\n",
    "                targets: y,\n",
    "                initial_state: state,\n",
    "                lr: learning_rate}\n",
    "            train_loss, state, _ = sess.run([cost, final_state, train_op], feed)\n",
    "\n",
    "            # Show every <show_every_n_batches> batches\n",
    "            if (epoch_i * len(batches) + batch_i) % show_every_n_batches == 0:\n",
    "                print('Epoch {:>3} Batch {:>4}/{}   train_loss = {:.3f}'.format(\n",
    "                    epoch_i,\n",
    "                    batch_i,\n",
    "                    len(batches),\n",
    "                    train_loss))\n",
    "\n",
    "    # Save Model\n",
    "    saver = tf.train.Saver()\n",
    "    saver.save(sess, save_dir)\n",
    "    print('Model Trained and Saved')"
   ]
  },
  {
   "cell_type": "markdown",
   "metadata": {
    "deletable": true,
    "editable": true
   },
   "source": [
    "## Save Parameters\n",
    "Save `seq_length` and `save_dir` for generating a new TV script."
   ]
  },
  {
   "cell_type": "code",
   "execution_count": 44,
   "metadata": {
    "collapsed": false,
    "deletable": true,
    "editable": true
   },
   "outputs": [],
   "source": [
    "\"\"\"\n",
    "DON'T MODIFY ANYTHING IN THIS CELL\n",
    "\"\"\"\n",
    "# Save parameters for checkpoint\n",
    "helper.save_params((seq_length, save_dir))"
   ]
  },
  {
   "cell_type": "markdown",
   "metadata": {
    "deletable": true,
    "editable": true
   },
   "source": [
    "# Checkpoint"
   ]
  },
  {
   "cell_type": "code",
   "execution_count": 45,
   "metadata": {
    "collapsed": false,
    "deletable": true,
    "editable": true
   },
   "outputs": [],
   "source": [
    "\"\"\"\n",
    "DON'T MODIFY ANYTHING IN THIS CELL\n",
    "\"\"\"\n",
    "import tensorflow as tf\n",
    "import numpy as np\n",
    "import helper\n",
    "import problem_unittests as tests\n",
    "\n",
    "_, vocab_to_int, int_to_vocab, token_dict = helper.load_preprocess()\n",
    "seq_length, load_dir = helper.load_params()"
   ]
  },
  {
   "cell_type": "markdown",
   "metadata": {
    "deletable": true,
    "editable": true
   },
   "source": [
    "## Implement Generate Functions\n",
    "### Get Tensors\n",
    "Get tensors from `loaded_graph` using the function [`get_tensor_by_name()`](https://www.tensorflow.org/api_docs/python/tf/Graph#get_tensor_by_name).  Get the tensors using the following names:\n",
    "- \"input:0\"\n",
    "- \"initial_state:0\"\n",
    "- \"final_state:0\"\n",
    "- \"probs:0\"\n",
    "\n",
    "Return the tensors in the following tuple `(InputTensor, InitialStateTensor, FinalStateTensor, ProbsTensor)` "
   ]
  },
  {
   "cell_type": "code",
   "execution_count": 47,
   "metadata": {
    "collapsed": false,
    "deletable": true,
    "editable": true
   },
   "outputs": [
    {
     "name": "stdout",
     "output_type": "stream",
     "text": [
      "Tests Passed\n"
     ]
    }
   ],
   "source": [
    "def get_tensors(loaded_graph):\n",
    "    \"\"\"\n",
    "    Get input, initial state, final state, and probabilities tensor from <loaded_graph>\n",
    "    :param loaded_graph: TensorFlow graph loaded from file\n",
    "    :return: Tuple (InputTensor, InitialStateTensor, FinalStateTensor, ProbsTensor)\n",
    "    \"\"\"\n",
    "    # TODO: Implement Function\n",
    "    InputTensor = loaded_graph.get_tensor_by_name(name=\"input:0\")\n",
    "    InitialStateTensor = loaded_graph.get_tensor_by_name(name=\"initial_state:0\")\n",
    "    FinalStateTensor = loaded_graph.get_tensor_by_name(name=\"final_state:0\")\n",
    "    ProbsTensor = loaded_graph.get_tensor_by_name(name=\"probs:0\")\n",
    "    return InputTensor, InitialStateTensor, FinalStateTensor, ProbsTensor\n",
    "\n",
    "\n",
    "\"\"\"\n",
    "DON'T MODIFY ANYTHING IN THIS CELL THAT IS BELOW THIS LINE\n",
    "\"\"\"\n",
    "tests.test_get_tensors(get_tensors)"
   ]
  },
  {
   "cell_type": "markdown",
   "metadata": {
    "deletable": true,
    "editable": true
   },
   "source": [
    "### Choose Word\n",
    "Implement the `pick_word()` function to select the next word using `probabilities`."
   ]
  },
  {
   "cell_type": "code",
   "execution_count": 48,
   "metadata": {
    "collapsed": false,
    "deletable": true,
    "editable": true
   },
   "outputs": [
    {
     "name": "stdout",
     "output_type": "stream",
     "text": [
      "Tests Passed\n"
     ]
    }
   ],
   "source": [
    "def pick_word(probabilities, int_to_vocab):\n",
    "    \"\"\"\n",
    "    Pick the next word in the generated text\n",
    "    :param probabilities: Probabilites of the next word\n",
    "    :param int_to_vocab: Dictionary of word ids as the keys and words as the values\n",
    "    :return: String of the predicted word\n",
    "    \"\"\"\n",
    "    # TODO: Implement Function\n",
    "    max_prob = 0\n",
    "    for i in range(len(int_to_vocab)):\n",
    "        if probabilities[i] > max_prob:\n",
    "            max_prob = probabilities[i]\n",
    "            best_word = int_to_vocab[i]\n",
    "    return best_word\n",
    "\n",
    "\n",
    "\"\"\"\n",
    "DON'T MODIFY ANYTHING IN THIS CELL THAT IS BELOW THIS LINE\n",
    "\"\"\"\n",
    "tests.test_pick_word(pick_word)"
   ]
  },
  {
   "cell_type": "markdown",
   "metadata": {
    "deletable": true,
    "editable": true
   },
   "source": [
    "## Generate TV Script\n",
    "This will generate the TV script for you.  Set `gen_length` to the length of TV script you want to generate."
   ]
  },
  {
   "cell_type": "code",
   "execution_count": 49,
   "metadata": {
    "collapsed": false,
    "deletable": true,
    "editable": true
   },
   "outputs": [
    {
     "name": "stdout",
     "output_type": "stream",
     "text": [
      "moe_szyslak:(explaining)\" go near moe.\" i'd say that's a pretty strong endorsement with the last heart and only got his bye customers. but you seek me me me something when i get the money to start a mind from bart-- it's not 'cause they drink me our face!\n",
      "homer_simpson: oh, i can't drink your whole cheer my kids with her.\n",
      "moe_szyslak:(musses tape) hey, i've always hurt the cash thing in the drink?\n",
      "lenny:(big accent) ooh, eh-- i'm already any letter with the japanese date for the dexterous\" walks years!\n",
      "moe_szyslak: i'm going too money?\n",
      "moe_szyslak: yeah, this is a rob scout in me.\n",
      "moe_szyslak: you can't caught us some well before it wasn't before you won ya and look tonight?\n",
      "moe_szyslak: well, now it's much business?\n",
      "homer_simpson: how are you doing?\n",
      "moe_szyslak: hey, i've been meanin' on the bible. the answer is you me out tonight, homer?\n",
      "bart_simpson: hey, i know, i got any great years\n"
     ]
    }
   ],
   "source": [
    "gen_length = 200\n",
    "# homer_simpson, moe_szyslak, or Barney_Gumble\n",
    "prime_word = 'moe_szyslak'\n",
    "\n",
    "\"\"\"\n",
    "DON'T MODIFY ANYTHING IN THIS CELL THAT IS BELOW THIS LINE\n",
    "\"\"\"\n",
    "loaded_graph = tf.Graph()\n",
    "with tf.Session(graph=loaded_graph) as sess:\n",
    "    # Load saved model\n",
    "    loader = tf.train.import_meta_graph(load_dir + '.meta')\n",
    "    loader.restore(sess, load_dir)\n",
    "\n",
    "    # Get Tensors from loaded model\n",
    "    input_text, initial_state, final_state, probs = get_tensors(loaded_graph)\n",
    "\n",
    "    # Sentences generation setup\n",
    "    gen_sentences = [prime_word + ':']\n",
    "    prev_state = sess.run(initial_state, {input_text: np.array([[1]])})\n",
    "\n",
    "    # Generate sentences\n",
    "    for n in range(gen_length):\n",
    "        # Dynamic Input\n",
    "        dyn_input = [[vocab_to_int[word] for word in gen_sentences[-seq_length:]]]\n",
    "        dyn_seq_length = len(dyn_input[0])\n",
    "\n",
    "        # Get Prediction\n",
    "        probabilities, prev_state = sess.run(\n",
    "            [probs, final_state],\n",
    "            {input_text: dyn_input, initial_state: prev_state})\n",
    "        \n",
    "        pred_word = pick_word(probabilities[dyn_seq_length-1], int_to_vocab)\n",
    "\n",
    "        gen_sentences.append(pred_word)\n",
    "    \n",
    "    # Remove tokens\n",
    "    tv_script = ' '.join(gen_sentences)\n",
    "    for key, token in token_dict.items():\n",
    "        ending = ' ' if key in ['\\n', '(', '\"'] else ''\n",
    "        tv_script = tv_script.replace(' ' + token.lower(), key)\n",
    "    tv_script = tv_script.replace('\\n ', '\\n')\n",
    "    tv_script = tv_script.replace('( ', '(')\n",
    "        \n",
    "    print(tv_script)"
   ]
  },
  {
   "cell_type": "markdown",
   "metadata": {
    "deletable": true,
    "editable": true
   },
   "source": [
    "# The TV Script is Nonsensical\n",
    "It's ok if the TV script doesn't make any sense.  We trained on less than a megabyte of text.  In order to get good results, you'll have to use a smaller vocabulary or get more data.  Luckly there's more data!  As we mentioned in the begging of this project, this is a subset of [another dataset](https://www.kaggle.com/wcukierski/the-simpsons-by-the-data).  We didn't have you train on all the data, because that would take too long.  However, you are free to train your neural network on all the data.  After you complete the project, of course.\n",
    "# Submitting This Project\n",
    "When submitting this project, make sure to run all the cells before saving the notebook. Save the notebook file as \"dlnd_tv_script_generation.ipynb\" and save it as a HTML file under \"File\" -> \"Download as\". Include the \"helper.py\" and \"problem_unittests.py\" files in your submission."
   ]
  }
 ],
 "metadata": {
  "kernelspec": {
   "display_name": "Python 3",
   "language": "python",
   "name": "python3"
  },
  "language_info": {
   "codemirror_mode": {
    "name": "ipython",
    "version": 3
   },
   "file_extension": ".py",
   "mimetype": "text/x-python",
   "name": "python",
   "nbconvert_exporter": "python",
   "pygments_lexer": "ipython3",
   "version": "3.5.2"
  },
  "widgets": {
   "state": {},
   "version": "1.1.2"
  }
 },
 "nbformat": 4,
 "nbformat_minor": 0
}
